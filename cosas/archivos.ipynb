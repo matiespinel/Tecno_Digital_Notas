{
 "cells": [
  {
   "cell_type": "code",
   "execution_count": null,
   "metadata": {},
   "outputs": [
    {
     "name": "stdout",
     "output_type": "stream",
     "text": [
      "[('Flat White', 5015), ('Capuchino', 4720), ('Espresso', 3540), ('Americano', 3835), ('Latte', 5310), ('Moca', 5605), ('Café Helado', 4425), ('Cold Brew', 5015), ('Matcha Latte', 5841), ('Chai Latte', 5310), ('Chocolate Caliente', 4661), ('Frappé de Vainilla', 6195), ('Té Verde con Menta', 4130), ('Iced Chai Latte', 5605), ('Espresso Doble', 4425), ('Affogato', 5900), ('Café con Leche', 4130), ('Macchiato', 4661), ('Agua', 2360), ('Agua con Gas', 2360), ('Jugo de Naranja', 2950)]\n"
     ]
    }
   ],
   "source": [
    "import csv\n",
    "\n",
    "bebidas: list[tuple[str, int]] = []\n",
    "\n",
    "f = open(\"C:/Users/Tincho/Documents/GitHub/Tecno_Digital_Notas/menu_cafeteria.csv\", encoding=\"utf-8\")\n",
    "for linea in csv.DictReader(f):\n",
    "    nombre = linea[\"Nombre\"]\n",
    "    precio = int(linea[\"Precio\"])\n",
    "    bebidas.append((bebida(nombre, precio)))\n",
    "f.close\n",
    "print(bebidas)\n"
   ]
  },
  {
   "cell_type": "code",
   "execution_count": null,
   "id": "aa0a4258",
   "metadata": {},
   "outputs": [],
   "source": []
  },
  {
   "cell_type": "code",
   "execution_count": 11,
   "id": "5f8924d5",
   "metadata": {},
   "outputs": [
    {
     "name": "stdout",
     "output_type": "stream",
     "text": [
      "[Jugo de Naranja: $2950, Jugo de Naranja: $2950, Jugo de Naranja: $2950, Jugo de Naranja: $2950, Jugo de Naranja: $2950, Jugo de Naranja: $2950, Jugo de Naranja: $2950, Jugo de Naranja: $2950, Jugo de Naranja: $2950, Jugo de Naranja: $2950, Jugo de Naranja: $2950, Jugo de Naranja: $2950, Jugo de Naranja: $2950, Jugo de Naranja: $2950, Jugo de Naranja: $2950, Jugo de Naranja: $2950, Jugo de Naranja: $2950, Jugo de Naranja: $2950, Jugo de Naranja: $2950, Jugo de Naranja: $2950, Jugo de Naranja: $2950]\n"
     ]
    }
   ],
   "source": [
    "class bebida: \n",
    "    def __init__(self, nombre, precio):\n",
    "        self.nombre = nombre\n",
    "        self.precio = precio\n",
    "    def __repr__(self):\n",
    "        return nombre + \": \"+ \"$\"+ str (precio)\n",
    "    \n",
    "\n",
    "bebidas: list[bebida] = []\n",
    "\n",
    "f = open(\"C:/Users/Tincho/Documents/GitHub/Tecno_Digital_Notas/menu_cafeteria.csv\", encoding=\"utf-8\")\n",
    "for linea in csv.DictReader(f):\n",
    "    nombre = linea[\"Nombre\"]\n",
    "    precio = int(linea[\"Precio\"])\n",
    "    bebidas.append((bebida(nombre, precio)))\n",
    "f.close\n",
    "print(bebidas)\n",
    "def precio_promedio (bebidas):\n",
    "    pro = 0\n",
    "    for bebiba in bebidas:\n",
    "        pro += bebiba.precio\n",
    "    pro = pro/len(bebidas)\n",
    "    return pro"
   ]
  }
 ],
 "metadata": {
  "kernelspec": {
   "display_name": "Python 3",
   "language": "python",
   "name": "python3"
  },
  "language_info": {
   "codemirror_mode": {
    "name": "ipython",
    "version": 3
   },
   "file_extension": ".py",
   "mimetype": "text/x-python",
   "name": "python",
   "nbconvert_exporter": "python",
   "pygments_lexer": "ipython3",
   "version": "3.11.9"
  }
 },
 "nbformat": 4,
 "nbformat_minor": 5
}
