{
 "cells": [
  {
   "cell_type": "code",
   "execution_count": null,
   "id": "d6ae3a98",
   "metadata": {},
   "outputs": [],
   "source": [
    "#tupla\n",
    "tupla : tuple = (\"x\",\"z\",\"y\")\n",
    "#LAS TUPLAS SON INMUTABLES\n",
    "\"\"\"Las tuplas se puede pedir un valor especifico tupla(i), pero no se puede modificar.\n",
    "    Para una tupla solo se pueden realizar consultas.\n",
    "    son ordenadas\n",
    "    \"\"\""
   ]
  },
  {
   "cell_type": "code",
   "execution_count": null,
   "id": "2848f331",
   "metadata": {},
   "outputs": [],
   "source": [
    "set : set = {\"cosa2\", \"cosa2\", \"cosa1\"}\n",
    "\"\"\" Los conjuntos son mutables como las listas, se pueden meter y sacar cosas, se pueden consultar como las listas(no por elemnto ya que no estan ordenados), compararlos, unirlos, interseccionarlos y direfenciarlos\n",
    "    se puede crear poniendo set(), esto crea uno vacio (unica forma, { } esta reservado para diccionarios)\n",
    "    {x,z,y} crea un set\n",
    "    \"\"\""
   ]
  },
  {
   "cell_type": "code",
   "execution_count": 7,
   "id": "1e01e624",
   "metadata": {},
   "outputs": [
    {
     "name": "stdout",
     "output_type": "stream",
     "text": [
      "{'n', 'a', 'b'}\n"
     ]
    }
   ],
   "source": [
    "def caracteres (str):\n",
    "    b = set()\n",
    "    for caracteres in str:\n",
    "        b.add(caracteres)\n",
    "    return b \n",
    "b = caracteres (\"banana\")\n",
    "print (b)"
   ]
  },
  {
   "cell_type": "code",
   "execution_count": 8,
   "id": "22322795",
   "metadata": {},
   "outputs": [],
   "source": [
    "def cracteres_en_comun (str1, str2):\n",
    "    a = caracteres(str1)\n",
    "    b = caracteres(str2)\n",
    "    d = a & b\n",
    "    return d"
   ]
  },
  {
   "cell_type": "code",
   "execution_count": null,
   "id": "c9126cd7",
   "metadata": {},
   "outputs": [
    {
     "data": {
      "text/plain": [
       "''"
      ]
     },
     "execution_count": 9,
     "metadata": {},
     "output_type": "execute_result"
    }
   ],
   "source": [
    "#diccionarios\n",
    "\"\"\"dict(): diccionario vacio\n",
    "    {} diccionario vacio\n",
    "    len(d) cantidad de claves\n",
    "    k in d, si k es una clave de d\n",
    "    d[k] = v asocia la clave k con el valor v\n",
    "    d[k], devuelve el valor\n",
    "    d.pop(k), chau k y lo devuelve\n",
    "    list(d): solo las claves\n",
    "    \"\"\""
   ]
  },
  {
   "cell_type": "code",
   "execution_count": 20,
   "id": "ca212f9c",
   "metadata": {},
   "outputs": [
    {
     "name": "stdout",
     "output_type": "stream",
     "text": [
      " uno cero\n"
     ]
    }
   ],
   "source": [
    "def recitar(n):\n",
    "    nums = {\n",
    "    0: \"cero\",\n",
    "    1: \"uno\",\n",
    "    2: \"dos\",\n",
    "    3: \"tres\",\n",
    "    4: \"cuatro\",\n",
    "    5: \"cinco\",\n",
    "    6: \"seis\",\n",
    "    7: \"siete\",\n",
    "    8: \"ocho\",\n",
    "    9: \"nueve\"\n",
    "}\n",
    "    res = \"\"\n",
    "    for num in str(n):\n",
    "        res = res + \" \" + nums[int(num)]\n",
    "    return res\n",
    "\n",
    "print(recitar(10))"
   ]
  },
  {
   "cell_type": "code",
   "execution_count": null,
   "id": "839489f3",
   "metadata": {},
   "outputs": [
    {
     "name": "stdout",
     "output_type": "stream",
     "text": [
      "(True, 4)\n"
     ]
    }
   ],
   "source": [
    "#guia 8 3) \n",
    "def buscar ( elem :int , lista : list [ int ]) -> tuple [bool , int ]:\n",
    "    \n",
    "    for pos ,num in enumerate(lista):\n",
    "        if num == elem:\n",
    "            return (True, pos)\n",
    "    return (False, None)\n",
    "\n",
    "print (buscar(2, [1,3,4,45,2]))\n",
    "            \n"
   ]
  },
  {
   "cell_type": "code",
   "execution_count": 32,
   "id": "40ed137a",
   "metadata": {},
   "outputs": [
    {
     "data": {
      "text/plain": [
       "{'a', 'b', 'c'}"
      ]
     },
     "execution_count": 32,
     "metadata": {},
     "output_type": "execute_result"
    }
   ],
   "source": [
    "#guia 8 5)\n",
    "def unicos (lista):\n",
    "    vr = set(lista)\n",
    "    return vr \n",
    "unicos([\"a\", \"a\", \"b\", \"c\"])"
   ]
  },
  {
   "cell_type": "code",
   "execution_count": 35,
   "id": "fdc788e2",
   "metadata": {},
   "outputs": [],
   "source": [
    "def panagrama_espa (list):\n",
    "    if len(set(list)) == 27:\n",
    "        return True \n",
    "    return False"
   ]
  },
  {
   "cell_type": "code",
   "execution_count": 41,
   "id": "062bdef0",
   "metadata": {},
   "outputs": [
    {
     "name": "stdout",
     "output_type": "stream",
     "text": [
      "1.0\n",
      "0.0\n",
      "0.5\n"
     ]
    }
   ],
   "source": [
    "def Indice_Jaccard(A, B):\n",
    "    A = set(A)\n",
    "    B = set(B)\n",
    "    interseccion = A & B\n",
    "    union = A | B\n",
    "    return len(interseccion) / len(union)\n",
    "print(Indice_Jaccard((1, 2, 3, 4), (1, 2, 3, 4)))  \n",
    "print(Indice_Jaccard((1, 2), (3, 4)))            \n",
    "print(Indice_Jaccard((1, 2, 3), (2, 3, 4)))      \n"
   ]
  },
  {
   "cell_type": "code",
   "execution_count": 45,
   "id": "f3a62fc2",
   "metadata": {},
   "outputs": [
    {
     "data": {
      "text/plain": [
       "['hola', 'ola ', 'la m', 'a ma', ' mat', 'mati']"
      ]
     },
     "execution_count": 45,
     "metadata": {},
     "output_type": "execute_result"
    }
   ],
   "source": [
    "def k_shingles(s, k):\n",
    "    resultado = []\n",
    "    for i in range(len(s) - k + 1):\n",
    "        subcadena = s[i:i + k]\n",
    "        resultado.append(subcadena)\n",
    "    return resultado\n",
    "k_shingles('hola mati', 4)"
   ]
  },
  {
   "cell_type": "code",
   "execution_count": null,
   "id": "cffbeac9",
   "metadata": {},
   "outputs": [],
   "source": [
    "def plagio(str, str2):\n",
    "    I = Indice_Jaccard(str, str2)\n",
    "    "
   ]
  }
 ],
 "metadata": {
  "kernelspec": {
   "display_name": "Python 3",
   "language": "python",
   "name": "python3"
  },
  "language_info": {
   "codemirror_mode": {
    "name": "ipython",
    "version": 3
   },
   "file_extension": ".py",
   "mimetype": "text/x-python",
   "name": "python",
   "nbconvert_exporter": "python",
   "pygments_lexer": "ipython3",
   "version": "3.11.9"
  }
 },
 "nbformat": 4,
 "nbformat_minor": 5
}
