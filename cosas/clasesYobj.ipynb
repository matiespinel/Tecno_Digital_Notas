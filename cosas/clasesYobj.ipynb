{
 "cells": [
  {
   "cell_type": "code",
   "execution_count": 19,
   "id": "73eb5f2b",
   "metadata": {},
   "outputs": [
    {
     "name": "stdout",
     "output_type": "stream",
     "text": [
      "banana $10k/g\n",
      "bum\n",
      "banana\n"
     ]
    }
   ],
   "source": [
    "\"\"\"\n",
    "\n",
    "\"\"\"\n",
    "class Fruta:\n",
    "    \"\"\"texto texto texto texto texto\n",
    "    \"\"\"\n",
    "    def __init__(self, n:str, p:float, es:set[str]):\n",
    "        self.nombre = n\n",
    "        self.precio = p\n",
    "        self.estaciones = es\n",
    "    def explota (self):\n",
    "        print (\"bum\")\n",
    "    def disponible (self, estacion):\n",
    "        return estacion in self.estaciones\n",
    "    def __repr__(self):\n",
    "        return self.nombre + \" $\" + str(self.precio) + \"k/g\"\n",
    "    \n",
    "    def __lt__ (self, otro : \"Fruta\"):\n",
    "        return self.precio > otro.precio\n",
    "\n",
    "b:Fruta = Fruta(\"banana\", 10, {\"VER\"})\n",
    "b.nombre\n",
    "print(b)\n",
    "b.explota()\n",
    "print(b.nombre)\n",
    "\n"
   ]
  },
  {
   "cell_type": "code",
   "execution_count": 20,
   "id": "d3731e6d",
   "metadata": {},
   "outputs": [
    {
     "data": {
      "text/plain": [
       "2000"
      ]
     },
     "execution_count": 20,
     "metadata": {},
     "output_type": "execute_result"
    }
   ],
   "source": [
    "class Carrito:\n",
    "    def __init__(self):\n",
    "        self.contenido : dict = dict()\n",
    "    def repr(self):\n",
    "        return str(self.contenido)\n",
    "    def agregar(self, nom, kg):\n",
    "        self.contenido[nom] = kg\n",
    "    def sacar(self, nom, kg):\n",
    "        self.contenido[nom] = self.contenido[nom] - kg \n",
    "        if self.contenido == 0 : self.contenido.pop(nom)\n",
    "    def precio_Total(self):\n",
    "        pre = 0\n",
    "        for fru in self.contenido:\n",
    "            pre += self.contenido[fru] * fru.precio + pre\n",
    "        return pre\n",
    "c = Carrito()\n",
    "c.agregar(b , 200)\n",
    "c.precio_Total()"
   ]
  },
  {
   "cell_type": "code",
   "execution_count": 10,
   "id": "7f416a26",
   "metadata": {},
   "outputs": [],
   "source": [
    "class punto:\n",
    "    def __init__(self, x: float, y: float):\n",
    "        self.x_cord = x\n",
    "        self.y_cord = y\n",
    "    def __repr__(self):\n",
    "        return str(self.x_cord) + str(self.y_cord)\n",
    "    def distancia_al_origen(self):\n",
    "        return (self.y_cord ** 2 + self.x_cord **2) **0.5\n",
    "    def distancia_a(self, q):\n",
    "        return ((self.x_cord - q.x_cord)**2 + (self.y_cord - q.y_cord)**2)** 0.5\n",
    "    def __add__ (self, q):\n",
    "        return punto (self.x_cord + q.x_cord, self.y_cord + q.y_cord)\n",
    "    def __eq__ (self, q):\n",
    "        return self == q\n",
    "    \n"
   ]
  },
  {
   "cell_type": "code",
   "execution_count": 26,
   "id": "feef1d7e",
   "metadata": {},
   "outputs": [
    {
     "name": "stdout",
     "output_type": "stream",
     "text": [
      "4\n"
     ]
    }
   ],
   "source": [
    "import random\n",
    "class Dado:\n",
    "    def __init__(self, caras):\n",
    "        self.caras = caras\n",
    "        self.valor_actual = 1\n",
    "    def tirar(self):\n",
    "        l =[]\n",
    "        while self.caras > 0:\n",
    "            l.append(self.caras)\n",
    "            self.caras = self.caras -1 \n",
    "        self.valor_actual = random.choice(l)\n",
    "    def __repr__(self):\n",
    "        return str(self.valor_actual)\n",
    "\n",
    "d = Dado(6)\n",
    "d.tirar()\n",
    "print(d)"
   ]
  },
  {
   "cell_type": "code",
   "execution_count": null,
   "id": "bf10081a",
   "metadata": {},
   "outputs": [],
   "source": []
  }
 ],
 "metadata": {
  "kernelspec": {
   "display_name": "Python 3",
   "language": "python",
   "name": "python3"
  },
  "language_info": {
   "codemirror_mode": {
    "name": "ipython",
    "version": 3
   },
   "file_extension": ".py",
   "mimetype": "text/x-python",
   "name": "python",
   "nbconvert_exporter": "python",
   "pygments_lexer": "ipython3",
   "version": "3.11.9"
  }
 },
 "nbformat": 4,
 "nbformat_minor": 5
}
