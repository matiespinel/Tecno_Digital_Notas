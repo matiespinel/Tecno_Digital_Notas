{
 "cells": [
  {
   "cell_type": "code",
   "execution_count": 2,
   "metadata": {},
   "outputs": [],
   "source": [
    "def pos_minimo (xs) -> int:\n",
    "    pos = 0\n",
    "    i = 1\n",
    "    while i < len(xs):\n",
    "        if xs[pos] > xs[i]:\n",
    "            pos = i\n",
    "        i = i + 1\n",
    "    return pos"
   ]
  },
  {
   "cell_type": "code",
   "execution_count": 3,
   "id": "06bf36ca",
   "metadata": {},
   "outputs": [],
   "source": [
    "def selection_sort(A:list[int]):\n",
    "    ''' Ordena (modifica) la lista A de menor a mayor. '''\n",
    "    for i in range(0, len(A)):\n",
    "        sublista:list[int] = A[i:]\n",
    "        pm:int = pos_minimo(sublista) + i\n",
    "        (A[i],A[pm]) = (A[pm],A[i])\n"
   ]
  },
  {
   "cell_type": "code",
   "execution_count": 15,
   "id": "7ffc3212",
   "metadata": {},
   "outputs": [],
   "source": [
    "def bubble_sort2(xs):\n",
    "    n = len(xs)\n",
    "    j = -1 \n",
    "    desorden = True\n",
    "    while desorden:\n",
    "        desorden = False  \n",
    "        for i in range(n - 1):\n",
    "            if xs[i] > xs[i + 1]:\n",
    "                xs[i], xs[i + 1] = xs[i + 1], xs[i]\n",
    "                print (xs)\n",
    "                desorden = True\n",
    "        n -= 1\n",
    "        for i in range(n - 1, j + 1, -1):\n",
    "             if xs[i] < xs[i -1]:\n",
    "                xs[i], xs[i - 1] = xs[i - 1], xs[i]\n",
    "                print (xs)\n",
    "                desorden = True\n",
    "    return xs\n",
    "def bubble_sort(xs):\n",
    "    n = len(xs)\n",
    "    desorden = True\n",
    "    while desorden:\n",
    "        desorden = False  \n",
    "        for i in range(n - 1):\n",
    "            if xs[i] > xs[i + 1]:\n",
    "                xs[i], xs[i + 1] = xs[i + 1], xs[i]\n",
    "                print (xs)\n",
    "                desorden = True\n",
    "        n -= 1\n",
    "#como vas de izq a derecha, y por cada iteracion se deja al mas grande al final, se le resta 1 a n. \n"
   ]
  },
  {
   "cell_type": "code",
   "execution_count": 16,
   "id": "dce469e2",
   "metadata": {},
   "outputs": [
    {
     "name": "stdout",
     "output_type": "stream",
     "text": [
      "[16, 4, 23, 11, 5, 456345, 2346, 512, 3]\n",
      "[16, 4, 11, 23, 5, 456345, 2346, 512, 3]\n",
      "[16, 4, 11, 5, 23, 456345, 2346, 512, 3]\n",
      "[16, 4, 11, 5, 23, 2346, 456345, 512, 3]\n",
      "[16, 4, 11, 5, 23, 2346, 512, 456345, 3]\n",
      "[16, 4, 11, 5, 23, 2346, 512, 3, 456345]\n",
      "[4, 16, 11, 5, 23, 2346, 512, 3, 456345]\n",
      "[4, 11, 16, 5, 23, 2346, 512, 3, 456345]\n",
      "[4, 11, 5, 16, 23, 2346, 512, 3, 456345]\n",
      "[4, 11, 5, 16, 23, 512, 2346, 3, 456345]\n",
      "[4, 11, 5, 16, 23, 512, 3, 2346, 456345]\n",
      "[4, 5, 11, 16, 23, 512, 3, 2346, 456345]\n",
      "[4, 5, 11, 16, 23, 3, 512, 2346, 456345]\n",
      "[4, 5, 11, 16, 3, 23, 512, 2346, 456345]\n",
      "[4, 5, 11, 3, 16, 23, 512, 2346, 456345]\n",
      "[4, 5, 3, 11, 16, 23, 512, 2346, 456345]\n",
      "[4, 3, 5, 11, 16, 23, 512, 2346, 456345]\n",
      "[3, 4, 5, 11, 16, 23, 512, 2346, 456345]\n",
      "None\n"
     ]
    }
   ],
   "source": [
    "a = [16,23,4,11,5,456345,2346,512,3]\n",
    "print (bubble_sort(a))"
   ]
  },
  {
   "cell_type": "markdown",
   "id": "6740b52c",
   "metadata": {},
   "source": [
    "Escribir en Python una funci´on donde insertar la cual recibe una lista\n",
    "no vac´ıa de strings ordenados de menor a mayor y un string, y devuelve\n",
    "la posici´on en la cual deber´ıa insertarse el mismo para que la lista siga\n",
    "estando ordenada. Debe tener complejidad algor´ıtmica logar´ıtmica."
   ]
  },
  {
   "cell_type": "code",
   "execution_count": null,
   "id": "24f84965",
   "metadata": {},
   "outputs": [],
   "source": []
  },
  {
   "cell_type": "code",
   "execution_count": null,
   "id": "48ac583b",
   "metadata": {},
   "outputs": [],
   "source": [
    "def donde_insertar(paises: list, pais: str) -> int:\n",
    "    izq = 0\n",
    "    der = len(paises)\n",
    "    while izq < der:\n",
    "        med = (izq + der) // 2\n",
    "        if paises[med].lower() < pais.lower():\n",
    "            izq = med + 1\n",
    "        else:\n",
    "            der = med\n",
    "    return izq"
   ]
  },
  {
   "cell_type": "code",
   "execution_count": 11,
   "id": "e58f310e",
   "metadata": {},
   "outputs": [
    {
     "data": {
      "text/plain": [
       "2"
      ]
     },
     "execution_count": 11,
     "metadata": {},
     "output_type": "execute_result"
    }
   ],
   "source": [
    "l = [\"argentina\", \"chile\", \"china\", \"peru\",]\n",
    "donde_insertar(l, \"China\")"
   ]
  },
  {
   "cell_type": "code",
   "execution_count": null,
   "id": "546decc2",
   "metadata": {},
   "outputs": [],
   "source": []
  }
 ],
 "metadata": {
  "kernelspec": {
   "display_name": "Python 3",
   "language": "python",
   "name": "python3"
  },
  "language_info": {
   "codemirror_mode": {
    "name": "ipython",
    "version": 3
   },
   "file_extension": ".py",
   "mimetype": "text/x-python",
   "name": "python",
   "nbconvert_exporter": "python",
   "pygments_lexer": "ipython3",
   "version": "3.11.9"
  }
 },
 "nbformat": 4,
 "nbformat_minor": 5
}
