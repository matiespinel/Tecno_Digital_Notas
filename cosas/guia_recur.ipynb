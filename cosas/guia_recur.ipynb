{
 "cells": [
  {
   "cell_type": "code",
   "execution_count": 4,
   "id": "2788106a",
   "metadata": {},
   "outputs": [
    {
     "name": "stdout",
     "output_type": "stream",
     "text": [
      "16\n"
     ]
    },
    {
     "data": {
      "text/plain": [
       "'Hacer seguimiento manual de 4\\n4 no es 0 as iq pasa al else, dentro del else, se llama devuelta a la funcion,\\npero ahora con n -1, osea 3, 3 no es 0, as iq se llama devuelta a la funcion con 2,\\nlo mismo con 1, hasta q sea 0.\\nuna vez la funcion se hace 0 devuelve 1, volviendo a su caso, hace 2 * 1 que es 2\\ndespues hace 2 * 2, despues 2 * 4 y por ultimo 2 * 8\\n'"
      ]
     },
     "execution_count": 4,
     "metadata": {},
     "output_type": "execute_result"
    }
   ],
   "source": [
    "def pot2(n : int) ->int :\n",
    "    if n == 0:\n",
    "        return 1\n",
    "    else:\n",
    "        res = pot2(n -1)\n",
    "        return 2 * res\n",
    "\n",
    "print(pot2(4))\n",
    "\"\"\"Hacer seguimiento manual de 4\n",
    "4 no es 0 as iq pasa al else, dentro del else, se llama devuelta a la funcion,\n",
    "pero ahora con n -1, osea 3, 3 no es 0, as iq se llama devuelta a la funcion con 2,\n",
    "lo mismo con 1, hasta q sea 0.\n",
    "una vez la funcion se hace 0 devuelve 1, volviendo a su caso, hace 2 * 1 que es 2\n",
    "despues hace 2 * 2, despues 2 * 4 y por ultimo 2 * 8\n",
    "\"\"\""
   ]
  },
  {
   "cell_type": "code",
   "execution_count": 4,
   "id": "5b8af5c9",
   "metadata": {},
   "outputs": [
    {
     "name": "stdout",
     "output_type": "stream",
     "text": [
      "1728\n"
     ]
    }
   ],
   "source": [
    "def pot_a_n(a: int, c: int):\n",
    "    if a == 0 and c == 0:\n",
    "        return 1 \n",
    "\n",
    "    if c == 0:\n",
    "        return 1\n",
    "    else:\n",
    "        res = pot_a_n(a, c - 1)\n",
    "        return a * res\n",
    "\n",
    "print(pot_a_n(12, 3))  \n"
   ]
  },
  {
   "cell_type": "code",
   "execution_count": 10,
   "id": "cef41e9c",
   "metadata": {},
   "outputs": [
    {
     "data": {
      "text/plain": [
       "28"
      ]
     },
     "execution_count": 10,
     "metadata": {},
     "output_type": "execute_result"
    }
   ],
   "source": [
    "def productoria (xs : list):\n",
    "    if len(xs) == 1:\n",
    "        return xs[0]\n",
    "    else:\n",
    "        producto = productoria(xs[1:])\n",
    "        return xs[0] * producto\n",
    "productoria([2,2,7])"
   ]
  },
  {
   "cell_type": "code",
   "execution_count": 29,
   "id": "1ae45a99",
   "metadata": {},
   "outputs": [],
   "source": [
    "def resto3(n):\n",
    "    if n == 0:\n",
    "        return 0\n",
    "    elif n == 1:\n",
    "        return 1\n",
    "    elif n==2:\n",
    "        return 2\n",
    "    else:\n",
    "        return resto3(n -3)\n"
   ]
  },
  {
   "cell_type": "code",
   "execution_count": 23,
   "id": "14c43063",
   "metadata": {},
   "outputs": [],
   "source": [
    "def tres_ala_n (n):\n",
    "    if n == 0:\n",
    "        return 1\n",
    "    else:\n",
    "        return 3 * tres_ala_n(n -1)\n",
    "\"\"\"para negativos\"\"\"\n",
    "def tres_ala_n2(n):\n",
    "    if n == 0:\n",
    "        return 1\n",
    "    elif n > 0:\n",
    "        return 3 * tres_ala_n2(n - 1)\n",
    "    else:  # n < 0\n",
    "        return 1 / tres_ala_n2(-n)\n"
   ]
  },
  {
   "cell_type": "code",
   "execution_count": 27,
   "id": "016c39bd",
   "metadata": {},
   "outputs": [
    {
     "data": {
      "text/plain": [
       "0.037037037037037035"
      ]
     },
     "execution_count": 27,
     "metadata": {},
     "output_type": "execute_result"
    }
   ],
   "source": [
    "tres_ala_n2(-3)"
   ]
  },
  {
   "cell_type": "code",
   "execution_count": 16,
   "id": "92a0a9c6",
   "metadata": {},
   "outputs": [],
   "source": [
    "def capiapicua_recurs(xs: list[int]):\n",
    "    if len(xs) <= 1:\n",
    "        return True\n",
    "    else:\n",
    "        if xs[0] == xs[-1]:\n",
    "            return capiapicua_recurs(xs[1:-1])\n",
    "        else:\n",
    "            return False"
   ]
  },
  {
   "cell_type": "code",
   "execution_count": 32,
   "id": "64d7d8eb",
   "metadata": {},
   "outputs": [
    {
     "data": {
      "text/plain": [
       "True"
      ]
     },
     "execution_count": 32,
     "metadata": {},
     "output_type": "execute_result"
    }
   ],
   "source": [
    "capiapicua_recurs([1,2,3,4,5,4,3,2,1])"
   ]
  },
  {
   "cell_type": "code",
   "execution_count": 19,
   "id": "3e7d0415",
   "metadata": {},
   "outputs": [],
   "source": [
    "def contar_letra(arr : list[str], l: str):\n",
    "    if len(arr) == 0:\n",
    "        return 0\n",
    "    else:\n",
    "        if l in arr[0]:\n",
    "            return 1 + contar_letra(arr[1:])\n",
    "        else:\n",
    "            return 0 + contar_letra(arr[1:])"
   ]
  },
  {
   "cell_type": "code",
   "execution_count": 41,
   "id": "f0c3949d",
   "metadata": {},
   "outputs": [
    {
     "data": {
      "text/plain": [
       "[9, 8, 7, 6, 5, 4, 3, 2, 1]"
      ]
     },
     "execution_count": 41,
     "metadata": {},
     "output_type": "execute_result"
    }
   ],
   "source": [
    "def espejar(xs: list[int]) -> list[int]:\n",
    "    ''' \n",
    "    Requiere: nada.\n",
    "    Devuelve: una nueva lista que contiene los mismos elementos\n",
    "              que xs, pero en el orden inverso.\n",
    "    '''\n",
    "    if len(xs) == 0:\n",
    "        return []\n",
    "    else:\n",
    "        return [xs[-1]] + espejar(xs[:-1])\n",
    "\n",
    "espejar([1,2,3,4,5,6,7,8,9])\n"
   ]
  },
  {
   "cell_type": "code",
   "execution_count": 2,
   "id": "91e6bdbc",
   "metadata": {},
   "outputs": [
    {
     "data": {
      "text/plain": [
       "{1, 2, 3, 4, 5}"
      ]
     },
     "execution_count": 2,
     "metadata": {},
     "output_type": "execute_result"
    }
   ],
   "source": [
    "a = [1,1,1,2,3,4,5,5]\n",
    "set(a)"
   ]
  },
  {
   "cell_type": "code",
   "execution_count": null,
   "id": "e65f682f",
   "metadata": {},
   "outputs": [
    {
     "name": "stdout",
     "output_type": "stream",
     "text": [
      "1728\n"
     ]
    }
   ],
   "source": [
    "def pot_a_n(a: int, c: int):\n",
    "    if a == 0 and c == 0:\n",
    "        return 1 \n",
    "\n",
    "    if c == 0:\n",
    "        return 1\n",
    "    else:\n",
    "        res = pot_a_n(a, c - 1)\n",
    "        return a * res\n",
    "\n",
    "print(pot_a_n(12, 3))  \n"
   ]
  },
  {
   "cell_type": "code",
   "execution_count": null,
   "id": "df2b1503",
   "metadata": {},
   "outputs": [
    {
     "name": "stdout",
     "output_type": "stream",
     "text": [
      "1728\n"
     ]
    }
   ],
   "source": [
    "def pot_a_n(a: int, c: int):\n",
    "    if a == 0 and c == 0:\n",
    "        return 1 \n",
    "\n",
    "    if c == 0:\n",
    "        return 1\n",
    "    else:\n",
    "        res = pot_a_n(a, c - 1)\n",
    "        return a * res\n",
    "\n",
    "print(pot_a_n(12, 3))  \n"
   ]
  },
  {
   "cell_type": "code",
   "execution_count": null,
   "id": "2533e3b8",
   "metadata": {},
   "outputs": [
    {
     "name": "stdout",
     "output_type": "stream",
     "text": [
      "1728\n"
     ]
    }
   ],
   "source": [
    "def pot_a_n(a: int, c: int):\n",
    "    if a == 0 and c == 0:\n",
    "        return 1 \n",
    "\n",
    "    if c == 0:\n",
    "        return 1\n",
    "    else:\n",
    "        res = pot_a_n(a, c - 1)\n",
    "        return a * res\n",
    "\n",
    "print(pot_a_n(12, 3))  \n"
   ]
  },
  {
   "cell_type": "code",
   "execution_count": 6,
   "id": "e6aa7955",
   "metadata": {},
   "outputs": [
    {
     "data": {
      "text/plain": [
       "9227465"
      ]
     },
     "execution_count": 6,
     "metadata": {},
     "output_type": "execute_result"
    }
   ],
   "source": [
    "def fibonacci(n):\n",
    "    if n == 0:\n",
    "        return 0\n",
    "    elif n == 1:\n",
    "        return 1\n",
    "    else:\n",
    "        return fibonacci(n - 1) + fibonacci(n - 2)\n",
    "fibonacci(35)"
   ]
  },
  {
   "cell_type": "code",
   "execution_count": 3,
   "id": "0b222ce7",
   "metadata": {},
   "outputs": [
    {
     "data": {
      "text/plain": [
       "-4"
      ]
     },
     "execution_count": 3,
     "metadata": {},
     "output_type": "execute_result"
    }
   ],
   "source": [
    "def asa(a):\n",
    "    if len(a) == 0:\n",
    "        return 0\n",
    "    else:\n",
    "        asa(a[:-1])\n",
    "        if a[-1]% 3 == 0:\n",
    "            return a[-1] + asa(a[:-1])\n",
    "        else:\n",
    "            return asa(a[:-1]) - a[-1]\n",
    "\n",
    "asa([4])"
   ]
  }
 ],
 "metadata": {
  "kernelspec": {
   "display_name": "Python 3",
   "language": "python",
   "name": "python3"
  },
  "language_info": {
   "codemirror_mode": {
    "name": "ipython",
    "version": 3
   },
   "file_extension": ".py",
   "mimetype": "text/x-python",
   "name": "python",
   "nbconvert_exporter": "python",
   "pygments_lexer": "ipython3",
   "version": "3.11.9"
  }
 },
 "nbformat": 4,
 "nbformat_minor": 5
}
