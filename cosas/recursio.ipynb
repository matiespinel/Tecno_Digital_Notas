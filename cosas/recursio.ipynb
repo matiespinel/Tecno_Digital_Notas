{
 "cells": [
  {
   "cell_type": "code",
   "execution_count": null,
   "id": "b041b3a9",
   "metadata": {},
   "outputs": [
    {
     "name": "stdout",
     "output_type": "stream",
     "text": [
      "10\n",
      "9\n",
      "8\n",
      "7\n",
      "6\n",
      "5\n",
      "4\n",
      "3\n",
      "2\n",
      "1\n",
      "ya\n"
     ]
    }
   ],
   "source": [
    "#recur = una funcion que se llama a si misma dentro de su definicion haciendo que dependa de su valor anterior. \n",
    "def a (n):\n",
    "    if n == 0: #caso base\n",
    "        print(\"ya\")\n",
    "    else:\n",
    "        print(n)\n",
    "        a(n-1)\n",
    "a(10)"
   ]
  },
  {
   "cell_type": "code",
   "execution_count": null,
   "id": "5efb242d",
   "metadata": {},
   "outputs": [
    {
     "name": "stdout",
     "output_type": "stream",
     "text": [
      "15\n"
     ]
    },
    {
     "data": {
      "text/plain": [
       "' Siempre que se quera cortar una recursion infinita se tiene que condicionarla variable generrando un caso base , en el caso del factorial, el caso base es f(0)'"
      ]
     },
     "execution_count": 6,
     "metadata": {},
     "output_type": "execute_result"
    }
   ],
   "source": [
    "def fact (n):\n",
    "    if n ==0: #caso base\n",
    "        return 1\n",
    "    return fact(n-1)*n\n",
    "print (fact(5))\n",
    "\n",
    "def suma (n):\n",
    "    if n ==0: #caso base\n",
    "        return 0\n",
    "    return fact(n-1) + n\n",
    "print (suma(5))\n",
    "\"\"\" Siempre que se quera cortar una recursion infinita se tiene que condicionarla variable generrando un caso base , en el caso del factorial, el caso base es f(0)\"\"\""
   ]
  },
  {
   "cell_type": "code",
   "execution_count": 23,
   "id": "d0d489b6",
   "metadata": {},
   "outputs": [
    {
     "name": "stdout",
     "output_type": "stream",
     "text": [
      "4\n"
     ]
    }
   ],
   "source": [
    "def asa (list):\n",
    "    if len(list) == 1:\n",
    "        return list[0]\n",
    "    else:\n",
    "        if list[0] > asa(list[1:]):\n",
    "            return list[0]\n",
    "        else:\n",
    "            return asa(list[1:])\n",
    "        \n",
    "print(asa([1,2,3,4,1]))"
   ]
  },
  {
   "cell_type": "code",
   "execution_count": null,
   "id": "968dcf02",
   "metadata": {},
   "outputs": [
    {
     "ename": "SyntaxError",
     "evalue": "incomplete input (4254197096.py, line 1)",
     "output_type": "error",
     "traceback": [
      "  \u001b[36mCell\u001b[39m\u001b[36m \u001b[39m\u001b[32mIn[24]\u001b[39m\u001b[32m, line 1\u001b[39m\n\u001b[31m    \u001b[39m\u001b[31mdef dictio (xs):\u001b[39m\n                    ^\n\u001b[31mSyntaxError\u001b[39m\u001b[31m:\u001b[39m incomplete input\n"
     ]
    }
   ],
   "source": [
    "def dictio (xs):\n",
    "    d = {}\n",
    "    if len(xs) == 1:\n",
    "        d [xs[0]] = len(xs[0])\n",
    "        return d\n",
    "    else:\n",
    "        dictio(xs[1:])\n",
    "    \n",
    "         "
   ]
  },
  {
   "cell_type": "code",
   "execution_count": null,
   "id": "c4cd0976",
   "metadata": {},
   "outputs": [],
   "source": []
  }
 ],
 "metadata": {
  "kernelspec": {
   "display_name": "Python 3",
   "language": "python",
   "name": "python3"
  },
  "language_info": {
   "codemirror_mode": {
    "name": "ipython",
    "version": 3
   },
   "file_extension": ".py",
   "mimetype": "text/x-python",
   "name": "python",
   "nbconvert_exporter": "python",
   "pygments_lexer": "ipython3",
   "version": "3.11.9"
  }
 },
 "nbformat": 4,
 "nbformat_minor": 5
}
