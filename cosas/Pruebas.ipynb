{
 "cells": [
  {
   "cell_type": "code",
   "execution_count": 1,
   "metadata": {},
   "outputs": [
    {
     "name": "stdout",
     "output_type": "stream",
     "text": [
      "[0, 1, 2, 3, 4, 5, 6, 7, 8, 9, 10]\n"
     ]
    }
   ],
   "source": [
    "#clase de listas\n",
    "l : list[int] = [0,1,2,3,4,5,6,7,8,9,10]\n",
    "print (l)"
   ]
  },
  {
   "cell_type": "code",
   "execution_count": 2,
   "metadata": {},
   "outputs": [],
   "source": [
    "def suma(a : list):\n",
    "    i = 0\n",
    "    res = 0 \n",
    "    while i < len(a):\n",
    "        res = res + a[1]\n",
    "        i = i + 1\n",
    "    return res \n",
    "# la suma de todos los primeros i elementos de la lista"
   ]
  },
  {
   "cell_type": "code",
   "execution_count": 3,
   "metadata": {},
   "outputs": [
    {
     "name": "stdout",
     "output_type": "stream",
     "text": [
      "90\n",
      "[0, 2, 3, 4, 5, 6, 7, 8, 9, 10]\n"
     ]
    }
   ],
   "source": [
    "l.append(90)\n",
    "x = l.pop() #elimina el elemento de la lista y lo devuelve// se puede especificar la posicion del elemento a poppear pasando un arguemnto de la posicion en pop\n",
    "print(x) \n",
    "l.remove(1) #saca elemento especifico \n",
    "print(l)\n",
    "l.insert(2, 78) #primero la posicion despues el elemento\n",
    "#se pueden sumar listas para concatenarlas\n",
    "g = l + [1,2,3,4,5,6]\n",
    "b = g == l #se puedn comparar\n",
    "#las listas se pueden reocorrer de atras para delante poniendo un indice negativo. "
   ]
  },
  {
   "cell_type": "code",
   "execution_count": 4,
   "metadata": {},
   "outputs": [
    {
     "name": "stdout",
     "output_type": "stream",
     "text": [
      "[0, 2, 78, 3, 4, 5, 6, 7, 8, 9, 10, 1, 2, 3, 4, 5, 6]\n"
     ]
    }
   ],
   "source": [
    "print (g)"
   ]
  },
  {
   "cell_type": "code",
   "execution_count": 5,
   "metadata": {},
   "outputs": [
    {
     "name": "stdout",
     "output_type": "stream",
     "text": [
      "[0, 2, 78, 3, 4, 5, 6, 7, 8]\n"
     ]
    }
   ],
   "source": [
    "print (g [0:9]) #el primer elemento se usa pero el segundo elemnto es como un intervalo abierto (no se incluye por ende se pone un elemento mas)"
   ]
  },
  {
   "cell_type": "code",
   "execution_count": 24,
   "metadata": {},
   "outputs": [
    {
     "name": "stdout",
     "output_type": "stream",
     "text": [
      "[0, 78, 4, 6, 8, 10]\n",
      "[10, 8, 6, 4, 78, 0]\n"
     ]
    }
   ],
   "source": [
    "#tambien se pueden hacer saltos de a numeros:\n",
    "print(l[::2])\n",
    "print (l[len(l)::-2])"
   ]
  },
  {
   "cell_type": "markdown",
   "metadata": {},
   "source": [
    "tambien se puede hacer con strings"
   ]
  },
  {
   "cell_type": "code",
   "execution_count": 8,
   "metadata": {},
   "outputs": [
    {
     "data": {
      "text/plain": [
       "[0, 2]"
      ]
     },
     "execution_count": 8,
     "metadata": {},
     "output_type": "execute_result"
    }
   ],
   "source": [
    "g[0:2]"
   ]
  },
  {
   "cell_type": "code",
   "execution_count": 22,
   "metadata": {},
   "outputs": [
    {
     "name": "stdout",
     "output_type": "stream",
     "text": [
      "pp\n",
      "psidhfnmasouEdilfkhncsodkp\n"
     ]
    }
   ],
   "source": [
    "a = \"ppsidhfnmasouEdilfkhncsodk\"\n",
    "ab = a[:2]\n",
    "print (ab)\n",
    "ac = a[1:len(a)] + a[0]\n",
    "print(ac)"
   ]
  },
  {
   "cell_type": "code",
   "execution_count": 28,
   "metadata": {},
   "outputs": [],
   "source": [
    "colores = [\"verde\", \"azul\", \"azul\", \"sddfsd\"]\n",
    "colores = \";\".join(colores)\n",
    "#operacion inversa\n",
    "d  = \"verde;azul;rojo\".split(\";\")\n"
   ]
  },
  {
   "cell_type": "code",
   "execution_count": 34,
   "metadata": {},
   "outputs": [
    {
     "name": "stdout",
     "output_type": "stream",
     "text": [
      "[0, 2, 78, 3, 4, 5, 6, 7, 8, 9, 10]\n"
     ]
    },
    {
     "data": {
      "text/plain": [
       "str"
      ]
     },
     "execution_count": 34,
     "metadata": {},
     "output_type": "execute_result"
    }
   ],
   "source": [
    "la = str(l)\n",
    "print (la)\n",
    "type(la)"
   ]
  },
  {
   "cell_type": "code",
   "execution_count": 8,
   "metadata": {},
   "outputs": [
    {
     "name": "stdout",
     "output_type": "stream",
     "text": [
      "[1, 2, 3] [1, 2] [1, 2]\n",
      "[1, 2]\n"
     ]
    }
   ],
   "source": [
    "a = [1,2]\n",
    "b = a.copy()\n",
    "c = [1,2]\n",
    "a.append(3)\n",
    "print(a,b, c)\n",
    "print (b)"
   ]
  },
  {
   "cell_type": "code",
   "execution_count": 1,
   "metadata": {},
   "outputs": [
    {
     "ename": "IndexError",
     "evalue": "list index out of range",
     "output_type": "error",
     "traceback": [
      "\u001b[31m---------------------------------------------------------------------------\u001b[39m",
      "\u001b[31mIndexError\u001b[39m                                Traceback (most recent call last)",
      "\u001b[36mCell\u001b[39m\u001b[36m \u001b[39m\u001b[32mIn[1]\u001b[39m\u001b[32m, line 9\u001b[39m\n\u001b[32m      7\u001b[39m             c.append(b[y])\n\u001b[32m      8\u001b[39m     \u001b[38;5;28;01mreturn\u001b[39;00m c\n\u001b[32m----> \u001b[39m\u001b[32m9\u001b[39m \u001b[38;5;28mprint\u001b[39m (\u001b[43mimpares\u001b[49m\u001b[43m(\u001b[49m\u001b[32;43m1\u001b[39;49m\u001b[43m,\u001b[49m\u001b[43m \u001b[49m\u001b[43m[\u001b[49m\u001b[32;43m1\u001b[39;49m\u001b[43m,\u001b[49m\u001b[32;43m2\u001b[39;49m\u001b[43m,\u001b[49m\u001b[32;43m3\u001b[39;49m\u001b[43m,\u001b[49m\u001b[32;43m4\u001b[39;49m\u001b[43m,\u001b[49m\u001b[32;43m5\u001b[39;49m\u001b[43m,\u001b[49m\u001b[32;43m6\u001b[39;49m\u001b[43m,\u001b[49m\u001b[32;43m7\u001b[39;49m\u001b[43m]\u001b[49m\u001b[43m)\u001b[49m)\n",
      "\u001b[36mCell\u001b[39m\u001b[36m \u001b[39m\u001b[32mIn[1]\u001b[39m\u001b[32m, line 7\u001b[39m, in \u001b[36mimpares\u001b[39m\u001b[34m(a, b)\u001b[39m\n\u001b[32m      5\u001b[39m         c.append(b[y] + a)\n\u001b[32m      6\u001b[39m     \u001b[38;5;28;01melse\u001b[39;00m:\n\u001b[32m----> \u001b[39m\u001b[32m7\u001b[39m         c.append(\u001b[43mb\u001b[49m\u001b[43m[\u001b[49m\u001b[43my\u001b[49m\u001b[43m]\u001b[49m)\n\u001b[32m      8\u001b[39m \u001b[38;5;28;01mreturn\u001b[39;00m c\n",
      "\u001b[31mIndexError\u001b[39m: list index out of range"
     ]
    }
   ],
   "source": [
    "def impares (a , b ):\n",
    "    c = []\n",
    "    for x, y in enumerate(b):\n",
    "        if x % 2 != 0 :\n",
    "            c.append(b[y] + a)\n",
    "        else:\n",
    "            c.append(b[y])\n",
    "    return c\n",
    "print (impares(1, [1,2,3,4,5,6,7]))"
   ]
  }
 ],
 "metadata": {
  "kernelspec": {
   "display_name": "Python 3",
   "language": "python",
   "name": "python3"
  },
  "language_info": {
   "codemirror_mode": {
    "name": "ipython",
    "version": 3
   },
   "file_extension": ".py",
   "mimetype": "text/x-python",
   "name": "python",
   "nbconvert_exporter": "python",
   "pygments_lexer": "ipython3",
   "version": "3.11.9"
  }
 },
 "nbformat": 4,
 "nbformat_minor": 2
}
